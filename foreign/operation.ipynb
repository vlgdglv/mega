{
 "cells": [
  {
   "cell_type": "code",
   "execution_count": 2,
   "metadata": {},
   "outputs": [],
   "source": [
    "import os\n",
    "import torch\n",
    "import argparse\n",
    "import numpy as np\n",
    "import pandas as pd\n",
    "import plotly.express as px\n",
    "import matplotlib.pyplot as plt\n",
    "from sklearn.decomposition import PCA\n",
    "from sklearn.manifold import TSNE\n",
    "import matplotlib.pyplot as plt\n",
    "from mpl_toolkits.mplot3d import Axes3D\n",
    "import plotly.graph_objects as go\n",
    "from itertools import chain"
   ]
  },
  {
   "cell_type": "code",
   "execution_count": 7,
   "metadata": {},
   "outputs": [
    {
     "name": "stdout",
     "output_type": "stream",
     "text": [
      "534 546\n"
     ]
    }
   ],
   "source": [
    "full_model_path = \"../checkpoints/coco/exp1128/full_novel/model_final.pth\"\n",
    "ft_model_path = \"../checkpoints/coco/exp1128/fsod_r101_novel/fsrw-like/1shot_seed0/model_final.pth\"\n",
    "\n",
    "full_model_dict, ft_model_dict = torch.load(full_model_path), torch.load(ft_model_path)\n",
    "print(len(full_model_dict['model']), len(ft_model_dict['model']))"
   ]
  },
  {
   "cell_type": "code",
   "execution_count": 8,
   "metadata": {},
   "outputs": [],
   "source": [
    "target_params = []\n",
    "for k in full_model_dict[\"model\"].keys():\n",
    "    if not k.startswith(\"backbone\"):\n",
    "        target_params.append(k)"
   ]
  },
  {
   "cell_type": "code",
   "execution_count": null,
   "metadata": {},
   "outputs": [
    {
     "name": "stdout",
     "output_type": "stream",
     "text": [
      "['proposal_generator.rpn_head.conv.weight', 'proposal_generator.rpn_head.conv.bias']\n",
      "['proposal_generator.rpn_head.objectness_logits.weight', 'proposal_generator.rpn_head.objectness_logits.bias']\n",
      "['proposal_generator.rpn_head.anchor_deltas.weight', 'proposal_generator.rpn_head.anchor_deltas.bias']\n",
      "['roi_heads.res5.0.shortcut.weight', 'roi_heads.res5.0.shortcut.norm.weight', 'roi_heads.res5.0.shortcut.norm.bias', 'roi_heads.res5.0.shortcut.norm.running_mean', 'roi_heads.res5.0.shortcut.norm.running_var']\n",
      "['roi_heads.res5.0.conv1.weight', 'roi_heads.res5.0.conv1.norm.weight', 'roi_heads.res5.0.conv1.norm.bias', 'roi_heads.res5.0.conv1.norm.running_mean', 'roi_heads.res5.0.conv1.norm.running_var']\n",
      "['roi_heads.res5.0.conv2.weight', 'roi_heads.res5.0.conv2.norm.weight', 'roi_heads.res5.0.conv2.norm.bias', 'roi_heads.res5.0.conv2.norm.running_mean', 'roi_heads.res5.0.conv2.norm.running_var']\n",
      "['roi_heads.res5.0.conv3.weight', 'roi_heads.res5.0.conv3.norm.weight', 'roi_heads.res5.0.conv3.norm.bias', 'roi_heads.res5.0.conv3.norm.running_mean', 'roi_heads.res5.0.conv3.norm.running_var']\n",
      "['roi_heads.res5.1.conv1.weight', 'roi_heads.res5.1.conv1.norm.weight', 'roi_heads.res5.1.conv1.norm.bias', 'roi_heads.res5.1.conv1.norm.running_mean', 'roi_heads.res5.1.conv1.norm.running_var']\n",
      "['roi_heads.res5.1.conv2.weight', 'roi_heads.res5.1.conv2.norm.weight', 'roi_heads.res5.1.conv2.norm.bias', 'roi_heads.res5.1.conv2.norm.running_mean', 'roi_heads.res5.1.conv2.norm.running_var']\n",
      "['roi_heads.res5.1.conv3.weight', 'roi_heads.res5.1.conv3.norm.weight', 'roi_heads.res5.1.conv3.norm.bias', 'roi_heads.res5.1.conv3.norm.running_mean', 'roi_heads.res5.1.conv3.norm.running_var']\n",
      "['roi_heads.res5.2.conv1.weight', 'roi_heads.res5.2.conv1.norm.weight', 'roi_heads.res5.2.conv1.norm.bias', 'roi_heads.res5.2.conv1.norm.running_mean', 'roi_heads.res5.2.conv1.norm.running_var']\n",
      "['roi_heads.res5.2.conv2.weight', 'roi_heads.res5.2.conv2.norm.weight', 'roi_heads.res5.2.conv2.norm.bias', 'roi_heads.res5.2.conv2.norm.running_mean', 'roi_heads.res5.2.conv2.norm.running_var']\n",
      "['roi_heads.res5.2.conv3.weight', 'roi_heads.res5.2.conv3.norm.weight', 'roi_heads.res5.2.conv3.norm.bias', 'roi_heads.res5.2.conv3.norm.running_mean', 'roi_heads.res5.2.conv3.norm.running_var']\n",
      "['roi_heads.box_predictor.cls_score.weight', 'roi_heads.box_predictor.cls_score.bias']\n",
      "['roi_heads.box_predictor.bbox_pred.weight', 'roi_heads.box_predictor.bbox_pred.bias']\n"
     ]
    }
   ],
   "source": [
    "# Prepare add modules\n",
    "param_list = ['proposal_generator.rpn_head.conv',\n",
    "              'proposal_generator.rpn_head.objectness_logits',\n",
    "              'proposal_generator.rpn_head.anchor_deltas', \n",
    "              'roi_heads.res5.0.shortcut', \n",
    "              'roi_heads.res5.0.conv1',\n",
    "              'roi_heads.res5.0.conv2',\n",
    "              'roi_heads.res5.0.conv3',\n",
    "              'roi_heads.res5.1.conv1',\n",
    "              'roi_heads.res5.1.conv2',\n",
    "              'roi_heads.res5.1.conv3',\n",
    "              'roi_heads.res5.2.conv1',\n",
    "              'roi_heads.res5.2.conv2',\n",
    "              'roi_heads.res5.2.conv3',\n",
    "              'roi_heads.box_predictor.cls_score',\n",
    "              'roi_heads.box_predictor.bbox_pred',\n",
    "            ]\n",
    "running_model = ft_model_dict\n",
    "\n",
    "save_dir = \"../checkpoints/coco/exp1128/steps_add\"\n",
    "torch.save(running_model, os.path.join(save_dir, \"model.start.pth\"))\n",
    "\n",
    "for param in param_list:\n",
    "    param2change = []\n",
    "    for name in target_params:\n",
    "        if name.startswith(param):\n",
    "            param2change.append(name)\n",
    "    print(param2change)\n",
    "    for name in param2change:\n",
    "        running_model[\"model\"][name] = full_model_dict[\"model\"][name]\n",
    "    torch.save(running_model, os.path.join(save_dir, \"model.\" + param + \".pth\"))"
   ]
  },
  {
   "cell_type": "code",
   "execution_count": 7,
   "metadata": {},
   "outputs": [
    {
     "name": "stdout",
     "output_type": "stream",
     "text": [
      "['proposal_generator.rpn_head.conv.weight', 'proposal_generator.rpn_head.conv.bias']\n",
      "['proposal_generator.rpn_head.objectness_logits.weight', 'proposal_generator.rpn_head.objectness_logits.bias']\n",
      "['proposal_generator.rpn_head.anchor_deltas.weight', 'proposal_generator.rpn_head.anchor_deltas.bias']\n",
      "['roi_heads.res5.0.shortcut.weight', 'roi_heads.res5.0.shortcut.norm.weight', 'roi_heads.res5.0.shortcut.norm.bias', 'roi_heads.res5.0.shortcut.norm.running_mean', 'roi_heads.res5.0.shortcut.norm.running_var']\n",
      "['roi_heads.res5.0.conv1.weight', 'roi_heads.res5.0.conv1.norm.weight', 'roi_heads.res5.0.conv1.norm.bias', 'roi_heads.res5.0.conv1.norm.running_mean', 'roi_heads.res5.0.conv1.norm.running_var']\n",
      "['roi_heads.res5.0.conv2.weight', 'roi_heads.res5.0.conv2.norm.weight', 'roi_heads.res5.0.conv2.norm.bias', 'roi_heads.res5.0.conv2.norm.running_mean', 'roi_heads.res5.0.conv2.norm.running_var']\n",
      "['roi_heads.res5.0.conv3.weight', 'roi_heads.res5.0.conv3.norm.weight', 'roi_heads.res5.0.conv3.norm.bias', 'roi_heads.res5.0.conv3.norm.running_mean', 'roi_heads.res5.0.conv3.norm.running_var']\n",
      "['roi_heads.res5.1.conv1.weight', 'roi_heads.res5.1.conv1.norm.weight', 'roi_heads.res5.1.conv1.norm.bias', 'roi_heads.res5.1.conv1.norm.running_mean', 'roi_heads.res5.1.conv1.norm.running_var']\n",
      "['roi_heads.res5.1.conv2.weight', 'roi_heads.res5.1.conv2.norm.weight', 'roi_heads.res5.1.conv2.norm.bias', 'roi_heads.res5.1.conv2.norm.running_mean', 'roi_heads.res5.1.conv2.norm.running_var']\n",
      "['roi_heads.res5.1.conv3.weight', 'roi_heads.res5.1.conv3.norm.weight', 'roi_heads.res5.1.conv3.norm.bias', 'roi_heads.res5.1.conv3.norm.running_mean', 'roi_heads.res5.1.conv3.norm.running_var']\n",
      "['roi_heads.res5.2.conv1.weight', 'roi_heads.res5.2.conv1.norm.weight', 'roi_heads.res5.2.conv1.norm.bias', 'roi_heads.res5.2.conv1.norm.running_mean', 'roi_heads.res5.2.conv1.norm.running_var']\n",
      "['roi_heads.res5.2.conv2.weight', 'roi_heads.res5.2.conv2.norm.weight', 'roi_heads.res5.2.conv2.norm.bias', 'roi_heads.res5.2.conv2.norm.running_mean', 'roi_heads.res5.2.conv2.norm.running_var']\n",
      "['roi_heads.res5.2.conv3.weight', 'roi_heads.res5.2.conv3.norm.weight', 'roi_heads.res5.2.conv3.norm.bias', 'roi_heads.res5.2.conv3.norm.running_mean', 'roi_heads.res5.2.conv3.norm.running_var']\n",
      "['roi_heads.box_predictor.cls_score.weight', 'roi_heads.box_predictor.cls_score.bias']\n",
      "['roi_heads.box_predictor.bbox_pred.weight', 'roi_heads.box_predictor.bbox_pred.bias']\n"
     ]
    }
   ],
   "source": [
    "# substitute modules\n",
    "param_list = ['proposal_generator.rpn_head.conv',\n",
    "              'proposal_generator.rpn_head.objectness_logits',\n",
    "              'proposal_generator.rpn_head.anchor_deltas', \n",
    "              'roi_heads.res5.0.shortcut', \n",
    "              'roi_heads.res5.0.conv1',\n",
    "              'roi_heads.res5.0.conv2',\n",
    "              'roi_heads.res5.0.conv3',\n",
    "              'roi_heads.res5.1.conv1',\n",
    "              'roi_heads.res5.1.conv2',\n",
    "              'roi_heads.res5.1.conv3',\n",
    "              'roi_heads.res5.2.conv1',\n",
    "              'roi_heads.res5.2.conv2',\n",
    "              'roi_heads.res5.2.conv3',\n",
    "              'roi_heads.box_predictor.cls_score',\n",
    "              'roi_heads.box_predictor.bbox_pred',\n",
    "            ]\n",
    "\n",
    "running_model = full_model_dict\n",
    "save_dir = \"../checkpoints/coco/exp1128/steps_wipe\"\n",
    "os.makedirs(save_dir, exist_ok=True)\n",
    "torch.save(running_model, os.path.join(save_dir, \"model.start.pth\"))\n",
    "\n",
    "for param in param_list:\n",
    "    param2change = []\n",
    "    for name in target_params:\n",
    "        if name.startswith(param):\n",
    "            param2change.append(name)\n",
    "    print(param2change)\n",
    "    running_model = full_model_dict\n",
    "    for name in param2change:\n",
    "        running_model[\"model\"][name] = ft_model_dict[\"model\"][name]\n",
    "    torch.save(running_model, os.path.join(save_dir, \"model.\" + param + \".pth\"))"
   ]
  },
  {
   "cell_type": "code",
   "execution_count": 4,
   "metadata": {},
   "outputs": [
    {
     "name": "stdout",
     "output_type": "stream",
     "text": [
      "['proposal_generator.rpn_head.conv.weight', 'proposal_generator.rpn_head.conv.bias']\n",
      "['proposal_generator.rpn_head.objectness_logits.weight', 'proposal_generator.rpn_head.objectness_logits.bias']\n",
      "['proposal_generator.rpn_head.anchor_deltas.weight', 'proposal_generator.rpn_head.anchor_deltas.bias']\n",
      "['roi_heads.res5.0.shortcut.weight', 'roi_heads.res5.0.shortcut.norm.weight', 'roi_heads.res5.0.shortcut.norm.bias', 'roi_heads.res5.0.shortcut.norm.running_mean', 'roi_heads.res5.0.shortcut.norm.running_var']\n",
      "['roi_heads.res5.0.conv1.weight', 'roi_heads.res5.0.conv1.norm.weight', 'roi_heads.res5.0.conv1.norm.bias', 'roi_heads.res5.0.conv1.norm.running_mean', 'roi_heads.res5.0.conv1.norm.running_var']\n",
      "['roi_heads.res5.0.conv2.weight', 'roi_heads.res5.0.conv2.norm.weight', 'roi_heads.res5.0.conv2.norm.bias', 'roi_heads.res5.0.conv2.norm.running_mean', 'roi_heads.res5.0.conv2.norm.running_var']\n",
      "['roi_heads.res5.0.conv3.weight', 'roi_heads.res5.0.conv3.norm.weight', 'roi_heads.res5.0.conv3.norm.bias', 'roi_heads.res5.0.conv3.norm.running_mean', 'roi_heads.res5.0.conv3.norm.running_var']\n",
      "['roi_heads.res5.1.conv1.weight', 'roi_heads.res5.1.conv1.norm.weight', 'roi_heads.res5.1.conv1.norm.bias', 'roi_heads.res5.1.conv1.norm.running_mean', 'roi_heads.res5.1.conv1.norm.running_var']\n",
      "['roi_heads.res5.1.conv2.weight', 'roi_heads.res5.1.conv2.norm.weight', 'roi_heads.res5.1.conv2.norm.bias', 'roi_heads.res5.1.conv2.norm.running_mean', 'roi_heads.res5.1.conv2.norm.running_var']\n",
      "['roi_heads.res5.1.conv3.weight', 'roi_heads.res5.1.conv3.norm.weight', 'roi_heads.res5.1.conv3.norm.bias', 'roi_heads.res5.1.conv3.norm.running_mean', 'roi_heads.res5.1.conv3.norm.running_var']\n",
      "['roi_heads.res5.2.conv1.weight', 'roi_heads.res5.2.conv1.norm.weight', 'roi_heads.res5.2.conv1.norm.bias', 'roi_heads.res5.2.conv1.norm.running_mean', 'roi_heads.res5.2.conv1.norm.running_var']\n",
      "['roi_heads.res5.2.conv2.weight', 'roi_heads.res5.2.conv2.norm.weight', 'roi_heads.res5.2.conv2.norm.bias', 'roi_heads.res5.2.conv2.norm.running_mean', 'roi_heads.res5.2.conv2.norm.running_var']\n",
      "['roi_heads.res5.2.conv3.weight', 'roi_heads.res5.2.conv3.norm.weight', 'roi_heads.res5.2.conv3.norm.bias', 'roi_heads.res5.2.conv3.norm.running_mean', 'roi_heads.res5.2.conv3.norm.running_var']\n",
      "['roi_heads.box_predictor.cls_score.weight', 'roi_heads.box_predictor.cls_score.bias']\n",
      "['roi_heads.box_predictor.bbox_pred.weight', 'roi_heads.box_predictor.bbox_pred.bias']\n"
     ]
    }
   ],
   "source": [
    "# add reverse\n",
    "# Prepare add modules\n",
    "param_list = ['proposal_generator.rpn_head.conv',\n",
    "              'proposal_generator.rpn_head.objectness_logits',\n",
    "              'proposal_generator.rpn_head.anchor_deltas', \n",
    "              'roi_heads.res5.0.shortcut', \n",
    "              'roi_heads.res5.0.conv1',\n",
    "              'roi_heads.res5.0.conv2',\n",
    "              'roi_heads.res5.0.conv3',\n",
    "              'roi_heads.res5.1.conv1',\n",
    "              'roi_heads.res5.1.conv2',\n",
    "              'roi_heads.res5.1.conv3',\n",
    "              'roi_heads.res5.2.conv1',\n",
    "              'roi_heads.res5.2.conv2',\n",
    "              'roi_heads.res5.2.conv3',\n",
    "              'roi_heads.box_predictor.cls_score',\n",
    "              'roi_heads.box_predictor.bbox_pred',\n",
    "            ]\n",
    "running_model = full_model_dict\n",
    "\n",
    "save_dir = \"../checkpoints/coco/exp1128/steps_add_reverse\"\n",
    "os.makedirs(save_dir, exist_ok=True)\n",
    "torch.save(running_model, os.path.join(save_dir, \"model.start.pth\"))\n",
    "\n",
    "for param in param_list:\n",
    "    param2change = []\n",
    "    for name in target_params:\n",
    "        if name.startswith(param):\n",
    "            param2change.append(name)\n",
    "    print(param2change)\n",
    "    for name in param2change:\n",
    "        running_model[\"model\"][name] = ft_model_dict[\"model\"][name]\n",
    "    torch.save(running_model, os.path.join(save_dir, \"model.\" + param + \".pth\"))"
   ]
  },
  {
   "cell_type": "code",
   "execution_count": 5,
   "metadata": {},
   "outputs": [
    {
     "name": "stdout",
     "output_type": "stream",
     "text": [
      "['proposal_generator.rpn_head.conv.weight', 'proposal_generator.rpn_head.conv.bias']\n",
      "['proposal_generator.rpn_head.objectness_logits.weight', 'proposal_generator.rpn_head.objectness_logits.bias']\n",
      "['proposal_generator.rpn_head.anchor_deltas.weight', 'proposal_generator.rpn_head.anchor_deltas.bias']\n",
      "['roi_heads.res5.0.shortcut.weight', 'roi_heads.res5.0.shortcut.norm.weight', 'roi_heads.res5.0.shortcut.norm.bias', 'roi_heads.res5.0.shortcut.norm.running_mean', 'roi_heads.res5.0.shortcut.norm.running_var']\n",
      "['roi_heads.res5.0.conv1.weight', 'roi_heads.res5.0.conv1.norm.weight', 'roi_heads.res5.0.conv1.norm.bias', 'roi_heads.res5.0.conv1.norm.running_mean', 'roi_heads.res5.0.conv1.norm.running_var']\n",
      "['roi_heads.res5.0.conv2.weight', 'roi_heads.res5.0.conv2.norm.weight', 'roi_heads.res5.0.conv2.norm.bias', 'roi_heads.res5.0.conv2.norm.running_mean', 'roi_heads.res5.0.conv2.norm.running_var']\n",
      "['roi_heads.res5.0.conv3.weight', 'roi_heads.res5.0.conv3.norm.weight', 'roi_heads.res5.0.conv3.norm.bias', 'roi_heads.res5.0.conv3.norm.running_mean', 'roi_heads.res5.0.conv3.norm.running_var']\n",
      "['roi_heads.res5.1.conv1.weight', 'roi_heads.res5.1.conv1.norm.weight', 'roi_heads.res5.1.conv1.norm.bias', 'roi_heads.res5.1.conv1.norm.running_mean', 'roi_heads.res5.1.conv1.norm.running_var']\n",
      "['roi_heads.res5.1.conv2.weight', 'roi_heads.res5.1.conv2.norm.weight', 'roi_heads.res5.1.conv2.norm.bias', 'roi_heads.res5.1.conv2.norm.running_mean', 'roi_heads.res5.1.conv2.norm.running_var']\n",
      "['roi_heads.res5.1.conv3.weight', 'roi_heads.res5.1.conv3.norm.weight', 'roi_heads.res5.1.conv3.norm.bias', 'roi_heads.res5.1.conv3.norm.running_mean', 'roi_heads.res5.1.conv3.norm.running_var']\n",
      "['roi_heads.res5.2.conv1.weight', 'roi_heads.res5.2.conv1.norm.weight', 'roi_heads.res5.2.conv1.norm.bias', 'roi_heads.res5.2.conv1.norm.running_mean', 'roi_heads.res5.2.conv1.norm.running_var']\n",
      "['roi_heads.res5.2.conv2.weight', 'roi_heads.res5.2.conv2.norm.weight', 'roi_heads.res5.2.conv2.norm.bias', 'roi_heads.res5.2.conv2.norm.running_mean', 'roi_heads.res5.2.conv2.norm.running_var']\n",
      "['roi_heads.res5.2.conv3.weight', 'roi_heads.res5.2.conv3.norm.weight', 'roi_heads.res5.2.conv3.norm.bias', 'roi_heads.res5.2.conv3.norm.running_mean', 'roi_heads.res5.2.conv3.norm.running_var']\n",
      "['roi_heads.box_predictor.cls_score.weight', 'roi_heads.box_predictor.cls_score.bias']\n",
      "['roi_heads.box_predictor.bbox_pred.weight', 'roi_heads.box_predictor.bbox_pred.bias']\n"
     ]
    }
   ],
   "source": [
    "# substitute modules reverse\n",
    "param_list = ['proposal_generator.rpn_head.conv',\n",
    "              'proposal_generator.rpn_head.objectness_logits',\n",
    "              'proposal_generator.rpn_head.anchor_deltas', \n",
    "              'roi_heads.res5.0.shortcut', \n",
    "              'roi_heads.res5.0.conv1',\n",
    "              'roi_heads.res5.0.conv2',\n",
    "              'roi_heads.res5.0.conv3',\n",
    "              'roi_heads.res5.1.conv1',\n",
    "              'roi_heads.res5.1.conv2',\n",
    "              'roi_heads.res5.1.conv3',\n",
    "              'roi_heads.res5.2.conv1',\n",
    "              'roi_heads.res5.2.conv2',\n",
    "              'roi_heads.res5.2.conv3',\n",
    "              'roi_heads.box_predictor.cls_score',\n",
    "              'roi_heads.box_predictor.bbox_pred',\n",
    "            ]\n",
    "\n",
    "running_model = ft_model_dict\n",
    "save_dir = \"../checkpoints/coco/exp1128/steps_wipe_reverse\"\n",
    "os.makedirs(save_dir, exist_ok=True)\n",
    "torch.save(running_model, os.path.join(save_dir, \"model.start.pth\"))\n",
    "\n",
    "for param in param_list:\n",
    "    param2change = []\n",
    "    for name in target_params:\n",
    "        if name.startswith(param):\n",
    "            param2change.append(name)\n",
    "    print(param2change)\n",
    "    running_model = ft_model_dict\n",
    "    for name in param2change:\n",
    "        running_model[\"model\"][name] = full_model_dict[\"model\"][name]\n",
    "    torch.save(running_model, os.path.join(save_dir, \"model.\" + param + \".pth\"))"
   ]
  },
  {
   "cell_type": "code",
   "execution_count": 5,
   "metadata": {},
   "outputs": [
    {
     "name": "stdout",
     "output_type": "stream",
     "text": [
      "['proposal_generator.rpn_head.conv.weight', 'proposal_generator.rpn_head.conv.bias', 'proposal_generator.rpn_head.objectness_logits.weight', 'proposal_generator.rpn_head.objectness_logits.bias', 'proposal_generator.rpn_head.anchor_deltas.weight', 'proposal_generator.rpn_head.anchor_deltas.bias']\n",
      "['roi_heads.res5.0.shortcut.weight', 'roi_heads.res5.0.shortcut.norm.weight', 'roi_heads.res5.0.shortcut.norm.bias', 'roi_heads.res5.0.shortcut.norm.running_mean', 'roi_heads.res5.0.shortcut.norm.running_var', 'roi_heads.res5.0.conv1.weight', 'roi_heads.res5.0.conv1.norm.weight', 'roi_heads.res5.0.conv1.norm.bias', 'roi_heads.res5.0.conv1.norm.running_mean', 'roi_heads.res5.0.conv1.norm.running_var', 'roi_heads.res5.0.conv2.weight', 'roi_heads.res5.0.conv2.norm.weight', 'roi_heads.res5.0.conv2.norm.bias', 'roi_heads.res5.0.conv2.norm.running_mean', 'roi_heads.res5.0.conv2.norm.running_var', 'roi_heads.res5.0.conv3.weight', 'roi_heads.res5.0.conv3.norm.weight', 'roi_heads.res5.0.conv3.norm.bias', 'roi_heads.res5.0.conv3.norm.running_mean', 'roi_heads.res5.0.conv3.norm.running_var', 'roi_heads.res5.1.conv1.weight', 'roi_heads.res5.1.conv1.norm.weight', 'roi_heads.res5.1.conv1.norm.bias', 'roi_heads.res5.1.conv1.norm.running_mean', 'roi_heads.res5.1.conv1.norm.running_var', 'roi_heads.res5.1.conv2.weight', 'roi_heads.res5.1.conv2.norm.weight', 'roi_heads.res5.1.conv2.norm.bias', 'roi_heads.res5.1.conv2.norm.running_mean', 'roi_heads.res5.1.conv2.norm.running_var', 'roi_heads.res5.1.conv3.weight', 'roi_heads.res5.1.conv3.norm.weight', 'roi_heads.res5.1.conv3.norm.bias', 'roi_heads.res5.1.conv3.norm.running_mean', 'roi_heads.res5.1.conv3.norm.running_var', 'roi_heads.res5.2.conv1.weight', 'roi_heads.res5.2.conv1.norm.weight', 'roi_heads.res5.2.conv1.norm.bias', 'roi_heads.res5.2.conv1.norm.running_mean', 'roi_heads.res5.2.conv1.norm.running_var', 'roi_heads.res5.2.conv2.weight', 'roi_heads.res5.2.conv2.norm.weight', 'roi_heads.res5.2.conv2.norm.bias', 'roi_heads.res5.2.conv2.norm.running_mean', 'roi_heads.res5.2.conv2.norm.running_var', 'roi_heads.res5.2.conv3.weight', 'roi_heads.res5.2.conv3.norm.weight', 'roi_heads.res5.2.conv3.norm.bias', 'roi_heads.res5.2.conv3.norm.running_mean', 'roi_heads.res5.2.conv3.norm.running_var']\n",
      "['roi_heads.box_predictor.cls_score.weight', 'roi_heads.box_predictor.cls_score.bias', 'roi_heads.box_predictor.bbox_pred.weight', 'roi_heads.box_predictor.bbox_pred.bias']\n"
     ]
    }
   ],
   "source": [
    "param_list = ['proposal_generator',\n",
    "              'roi_heads.res5',\n",
    "              'roi_heads.box_predictor',\n",
    "            ]\n",
    "\n",
    "running_model = ft_model_dict\n",
    "save_dir = \"../checkpoints/coco/exp1128/steps_wipe_few2full\"\n",
    "os.makedirs(save_dir, exist_ok=True)\n",
    "torch.save(running_model, os.path.join(save_dir, \"model.start.pth\"))\n",
    "\n",
    "for param in param_list:\n",
    "    param2change = []\n",
    "    for name in target_params:\n",
    "        if name.startswith(param):\n",
    "            param2change.append(name)\n",
    "    print(param2change)\n",
    "    running_model = ft_model_dict\n",
    "    for name in param2change:\n",
    "        running_model[\"model\"][name] = full_model_dict[\"model\"][name]\n",
    "    torch.save(running_model, os.path.join(save_dir, \"model.\" + param + \".pth\"))"
   ]
  },
  {
   "cell_type": "code",
   "execution_count": 9,
   "metadata": {},
   "outputs": [
    {
     "name": "stdout",
     "output_type": "stream",
     "text": [
      "['proposal_generator.rpn_head.conv.weight', 'proposal_generator.rpn_head.conv.bias', 'proposal_generator.rpn_head.objectness_logits.weight', 'proposal_generator.rpn_head.objectness_logits.bias', 'proposal_generator.rpn_head.anchor_deltas.weight', 'proposal_generator.rpn_head.anchor_deltas.bias']\n",
      "['roi_heads.res5.0.shortcut.weight', 'roi_heads.res5.0.shortcut.norm.weight', 'roi_heads.res5.0.shortcut.norm.bias', 'roi_heads.res5.0.shortcut.norm.running_mean', 'roi_heads.res5.0.shortcut.norm.running_var', 'roi_heads.res5.0.conv1.weight', 'roi_heads.res5.0.conv1.norm.weight', 'roi_heads.res5.0.conv1.norm.bias', 'roi_heads.res5.0.conv1.norm.running_mean', 'roi_heads.res5.0.conv1.norm.running_var', 'roi_heads.res5.0.conv2.weight', 'roi_heads.res5.0.conv2.norm.weight', 'roi_heads.res5.0.conv2.norm.bias', 'roi_heads.res5.0.conv2.norm.running_mean', 'roi_heads.res5.0.conv2.norm.running_var', 'roi_heads.res5.0.conv3.weight', 'roi_heads.res5.0.conv3.norm.weight', 'roi_heads.res5.0.conv3.norm.bias', 'roi_heads.res5.0.conv3.norm.running_mean', 'roi_heads.res5.0.conv3.norm.running_var', 'roi_heads.res5.1.conv1.weight', 'roi_heads.res5.1.conv1.norm.weight', 'roi_heads.res5.1.conv1.norm.bias', 'roi_heads.res5.1.conv1.norm.running_mean', 'roi_heads.res5.1.conv1.norm.running_var', 'roi_heads.res5.1.conv2.weight', 'roi_heads.res5.1.conv2.norm.weight', 'roi_heads.res5.1.conv2.norm.bias', 'roi_heads.res5.1.conv2.norm.running_mean', 'roi_heads.res5.1.conv2.norm.running_var', 'roi_heads.res5.1.conv3.weight', 'roi_heads.res5.1.conv3.norm.weight', 'roi_heads.res5.1.conv3.norm.bias', 'roi_heads.res5.1.conv3.norm.running_mean', 'roi_heads.res5.1.conv3.norm.running_var', 'roi_heads.res5.2.conv1.weight', 'roi_heads.res5.2.conv1.norm.weight', 'roi_heads.res5.2.conv1.norm.bias', 'roi_heads.res5.2.conv1.norm.running_mean', 'roi_heads.res5.2.conv1.norm.running_var', 'roi_heads.res5.2.conv2.weight', 'roi_heads.res5.2.conv2.norm.weight', 'roi_heads.res5.2.conv2.norm.bias', 'roi_heads.res5.2.conv2.norm.running_mean', 'roi_heads.res5.2.conv2.norm.running_var', 'roi_heads.res5.2.conv3.weight', 'roi_heads.res5.2.conv3.norm.weight', 'roi_heads.res5.2.conv3.norm.bias', 'roi_heads.res5.2.conv3.norm.running_mean', 'roi_heads.res5.2.conv3.norm.running_var']\n",
      "['roi_heads.box_predictor.cls_score.weight', 'roi_heads.box_predictor.cls_score.bias', 'roi_heads.box_predictor.bbox_pred.weight', 'roi_heads.box_predictor.bbox_pred.bias']\n"
     ]
    }
   ],
   "source": [
    "param_list = ['proposal_generator',\n",
    "              'roi_heads.res5',\n",
    "              'roi_heads.box_predictor',\n",
    "            ]\n",
    "\n",
    "running_model = full_model_dict\n",
    "save_dir = \"../checkpoints/coco/exp1128/steps_wipe_full2few\"\n",
    "os.makedirs(save_dir, exist_ok=True)\n",
    "torch.save(running_model, os.path.join(save_dir, \"model.start.pth\"))\n",
    "\n",
    "for param in param_list:\n",
    "    param2change = []\n",
    "    for name in target_params:\n",
    "        if name.startswith(param):\n",
    "            param2change.append(name)\n",
    "    print(param2change)\n",
    "    running_model = full_model_dict\n",
    "    for name in param2change:\n",
    "        running_model[\"model\"][name] = ft_model_dict[\"model\"][name]\n",
    "    torch.save(running_model, os.path.join(save_dir, \"model.\" + param + \".pth\"))"
   ]
  },
  {
   "cell_type": "code",
   "execution_count": null,
   "metadata": {},
   "outputs": [],
   "source": []
  }
 ],
 "metadata": {
  "kernelspec": {
   "display_name": "base",
   "language": "python",
   "name": "python3"
  },
  "language_info": {
   "codemirror_mode": {
    "name": "ipython",
    "version": 3
   },
   "file_extension": ".py",
   "mimetype": "text/x-python",
   "name": "python",
   "nbconvert_exporter": "python",
   "pygments_lexer": "ipython3",
   "version": "3.8.12"
  }
 },
 "nbformat": 4,
 "nbformat_minor": 2
}
